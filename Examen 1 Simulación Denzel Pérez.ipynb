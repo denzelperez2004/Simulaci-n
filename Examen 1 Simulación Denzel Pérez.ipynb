{
 "cells": [
  {
   "cell_type": "markdown",
   "id": "8a1b08f3-6a36-4da7-a649-9af619465acc",
   "metadata": {},
   "source": [
    "# Redacción del problema\n",
    "7. Sistema de inventarios con revisión periódica: Un negocio revisa su inventario cada 5 días. Si el nivel de inventario es menor a 40 unidades, realiza un pedido de reabastecimiento para que el nivel suba a 90 unidades. La demanda diaria sigue una distribución normal con media de 6 unidades y desviación estándar de 2 unidades. Simula el sistema durante 15 semanas."
   ]
  },
  {
   "cell_type": "code",
   "execution_count": 2,
   "id": "6f637874-abe5-4faa-9611-c4717cb38bea",
   "metadata": {},
   "outputs": [],
   "source": [
    "import numpy as np\n",
    "import matplotlib.pyplot as plt"
   ]
  },
  {
   "cell_type": "code",
   "execution_count": 3,
   "id": "c521401c-029d-47ab-841c-8253efb3347d",
   "metadata": {},
   "outputs": [],
   "source": [
    "# Parámetros del problema\n",
    "demanda_media = 6\n",
    "desviacion_std = 2\n",
    "dias_para_ordenar = 5 # La revisión de inventario se hace cada 5 días\n",
    "# En la redacción del problema no se menciona la cantidad del inventario inicial, asumí que iniciamos con inventario completo\n",
    "inventario_inicial = 90\n",
    "dias_a_simular = 15*7 # Debemos simular 15 semanas"
   ]
  },
  {
   "cell_type": "code",
   "execution_count": 4,
   "id": "6743cc27-d7ee-4b23-a5e5-5202c7a5b632",
   "metadata": {},
   "outputs": [],
   "source": [
    "def generar_normal(media = demanda_media, std_dev = desviacion_std, size=dias_a_simular):\n",
    "    # Como debemos simular 15 semanas (105 días) generamos 106 días para poder concatenar z1 y z2\n",
    "    u1 = np.random.uniform(0, 1, size//2+1)\n",
    "    u2 = np.random.uniform(0, 1, size//2+1)\n",
    "    \n",
    "    R = np.sqrt(-2 * np.log(u1))\n",
    "    Theta = 2 * np.pi * u2\n",
    "\n",
    "    # Se suma la media y se multiplica la desviación estándar para generar una normal con los parámetros deseados\n",
    "    z1 = media + std_dev * R * np.cos(Theta)\n",
    "    z2 = media + std_dev * R * np.sin(Theta)\n",
    "    \n",
    "    return np.concatenate([z1, z2])"
   ]
  },
  {
   "cell_type": "code",
   "execution_count": 5,
   "id": "0c720044-3293-4ae9-b381-d7d0ef36540d",
   "metadata": {},
   "outputs": [],
   "source": [
    "# Tomamos únicamente 105 días\n",
    "demandas = generar_normal()[:105].astype(int) # Convertimos los números en enteros, ya que no se pueden vender fracciones de piezas"
   ]
  },
  {
   "cell_type": "code",
   "execution_count": 6,
   "id": "d2fa5651-f97a-4c5f-abeb-4b3dd65f477c",
   "metadata": {},
   "outputs": [
    {
     "name": "stdout",
     "output_type": "stream",
     "text": [
      "Dia: 1, Inventario restante: 82, Demanda: 8\n",
      "Dia: 2, Inventario restante: 75, Demanda: 7\n",
      "Dia: 3, Inventario restante: 69, Demanda: 6\n",
      "Dia: 4, Inventario restante: 63, Demanda: 6\n",
      "Dia: 5, Inventario restante: 56, Demanda: 7\n",
      "Dia: 6, Inventario restante: 50, Demanda: 6\n",
      "Dia: 7, Inventario restante: 49, Demanda: 1\n",
      "Dia: 8, Inventario restante: 40, Demanda: 9\n",
      "Dia: 9, Inventario restante: 36, Demanda: 4\n",
      "Dia: 10, Inventario restante: 28, Demanda: 8\n",
      "Dia: 10, Inventario reabastecido: 62\n",
      "Dia: 11, Inventario restante: 84, Demanda: 6\n",
      "Dia: 12, Inventario restante: 82, Demanda: 2\n",
      "Dia: 13, Inventario restante: 74, Demanda: 8\n",
      "Dia: 14, Inventario restante: 72, Demanda: 2\n",
      "Dia: 15, Inventario restante: 65, Demanda: 7\n",
      "Dia: 16, Inventario restante: 58, Demanda: 7\n",
      "Dia: 17, Inventario restante: 53, Demanda: 5\n",
      "Dia: 18, Inventario restante: 47, Demanda: 6\n",
      "Dia: 19, Inventario restante: 43, Demanda: 4\n",
      "Dia: 20, Inventario restante: 35, Demanda: 8\n",
      "Dia: 20, Inventario reabastecido: 55\n",
      "Dia: 21, Inventario restante: 87, Demanda: 3\n",
      "Dia: 22, Inventario restante: 83, Demanda: 4\n",
      "Dia: 23, Inventario restante: 77, Demanda: 6\n",
      "Dia: 24, Inventario restante: 69, Demanda: 8\n",
      "Dia: 25, Inventario restante: 62, Demanda: 7\n",
      "Dia: 26, Inventario restante: 54, Demanda: 8\n",
      "Dia: 27, Inventario restante: 51, Demanda: 3\n",
      "Dia: 28, Inventario restante: 45, Demanda: 6\n",
      "Dia: 29, Inventario restante: 38, Demanda: 7\n",
      "Dia: 30, Inventario restante: 34, Demanda: 4\n",
      "Dia: 30, Inventario reabastecido: 56\n",
      "Dia: 31, Inventario restante: 85, Demanda: 5\n",
      "Dia: 32, Inventario restante: 82, Demanda: 3\n",
      "Dia: 33, Inventario restante: 74, Demanda: 8\n",
      "Dia: 34, Inventario restante: 68, Demanda: 6\n",
      "Dia: 35, Inventario restante: 68, Demanda: 0\n",
      "Dia: 36, Inventario restante: 62, Demanda: 6\n",
      "Dia: 37, Inventario restante: 57, Demanda: 5\n",
      "Dia: 38, Inventario restante: 51, Demanda: 6\n",
      "Dia: 39, Inventario restante: 44, Demanda: 7\n",
      "Dia: 40, Inventario restante: 39, Demanda: 5\n",
      "Dia: 40, Inventario reabastecido: 51\n",
      "Dia: 41, Inventario restante: 84, Demanda: 6\n",
      "Dia: 42, Inventario restante: 74, Demanda: 10\n",
      "Dia: 43, Inventario restante: 69, Demanda: 5\n",
      "Dia: 44, Inventario restante: 64, Demanda: 5\n",
      "Dia: 45, Inventario restante: 58, Demanda: 6\n",
      "Dia: 46, Inventario restante: 54, Demanda: 4\n",
      "Dia: 47, Inventario restante: 51, Demanda: 3\n",
      "Dia: 48, Inventario restante: 43, Demanda: 8\n",
      "Dia: 49, Inventario restante: 41, Demanda: 2\n",
      "Dia: 50, Inventario restante: 34, Demanda: 7\n",
      "Dia: 50, Inventario reabastecido: 56\n",
      "Dia: 51, Inventario restante: 83, Demanda: 7\n",
      "Dia: 52, Inventario restante: 78, Demanda: 5\n",
      "Dia: 53, Inventario restante: 77, Demanda: 1\n",
      "Dia: 54, Inventario restante: 70, Demanda: 7\n",
      "Dia: 55, Inventario restante: 63, Demanda: 7\n",
      "Dia: 56, Inventario restante: 59, Demanda: 4\n",
      "Dia: 57, Inventario restante: 55, Demanda: 4\n",
      "Dia: 58, Inventario restante: 53, Demanda: 2\n",
      "Dia: 59, Inventario restante: 49, Demanda: 4\n",
      "Dia: 60, Inventario restante: 43, Demanda: 6\n",
      "Dia: 61, Inventario restante: 34, Demanda: 9\n",
      "Dia: 62, Inventario restante: 28, Demanda: 6\n",
      "Dia: 63, Inventario restante: 25, Demanda: 3\n",
      "Dia: 64, Inventario restante: 19, Demanda: 6\n",
      "Dia: 65, Inventario restante: 12, Demanda: 7\n",
      "Dia: 65, Inventario reabastecido: 78\n",
      "Dia: 66, Inventario restante: 85, Demanda: 5\n",
      "Dia: 67, Inventario restante: 84, Demanda: 1\n",
      "Dia: 68, Inventario restante: 76, Demanda: 8\n",
      "Dia: 69, Inventario restante: 74, Demanda: 2\n",
      "Dia: 70, Inventario restante: 69, Demanda: 5\n",
      "Dia: 71, Inventario restante: 63, Demanda: 6\n",
      "Dia: 72, Inventario restante: 54, Demanda: 9\n",
      "Dia: 73, Inventario restante: 48, Demanda: 6\n",
      "Dia: 74, Inventario restante: 45, Demanda: 3\n",
      "Dia: 75, Inventario restante: 42, Demanda: 3\n",
      "Dia: 76, Inventario restante: 33, Demanda: 9\n",
      "Dia: 77, Inventario restante: 28, Demanda: 5\n",
      "Dia: 78, Inventario restante: 24, Demanda: 4\n",
      "Dia: 79, Inventario restante: 16, Demanda: 8\n",
      "Dia: 80, Inventario restante: 11, Demanda: 5\n",
      "Dia: 80, Inventario reabastecido: 79\n",
      "Dia: 81, Inventario restante: 82, Demanda: 8\n",
      "Dia: 82, Inventario restante: 75, Demanda: 7\n",
      "Dia: 83, Inventario restante: 70, Demanda: 5\n",
      "Dia: 84, Inventario restante: 63, Demanda: 7\n",
      "Dia: 85, Inventario restante: 55, Demanda: 8\n",
      "Dia: 86, Inventario restante: 51, Demanda: 4\n",
      "Dia: 87, Inventario restante: 43, Demanda: 8\n",
      "Dia: 88, Inventario restante: 39, Demanda: 4\n",
      "Dia: 89, Inventario restante: 36, Demanda: 3\n",
      "Dia: 90, Inventario restante: 28, Demanda: 8\n",
      "Dia: 90, Inventario reabastecido: 62\n",
      "Dia: 91, Inventario restante: 86, Demanda: 4\n",
      "Dia: 92, Inventario restante: 81, Demanda: 5\n",
      "Dia: 93, Inventario restante: 76, Demanda: 5\n",
      "Dia: 94, Inventario restante: 71, Demanda: 5\n",
      "Dia: 95, Inventario restante: 68, Demanda: 3\n",
      "Dia: 96, Inventario restante: 63, Demanda: 5\n",
      "Dia: 97, Inventario restante: 60, Demanda: 3\n",
      "Dia: 98, Inventario restante: 60, Demanda: 0\n",
      "Dia: 99, Inventario restante: 50, Demanda: 10\n",
      "Dia: 100, Inventario restante: 44, Demanda: 6\n",
      "Dia: 101, Inventario restante: 39, Demanda: 5\n",
      "Dia: 102, Inventario restante: 35, Demanda: 4\n",
      "Dia: 103, Inventario restante: 30, Demanda: 5\n",
      "Dia: 104, Inventario restante: 22, Demanda: 8\n",
      "Dia: 105, Inventario restante: 22, Demanda: 0\n",
      "Dia: 105, Inventario reabastecido: 68\n"
     ]
    }
   ],
   "source": [
    "inventario = inventario_inicial\n",
    "\n",
    "for dia in range(0, dias_a_simular):\n",
    "\n",
    "    if demandas[dia] <= inventario:\n",
    "        inventario -= demandas[dia]\n",
    "        print(f\"Dia: {dia+1}, Inventario restante: {inventario}, Demanda: {demandas[dia]}\")\n",
    "    else:\n",
    "        # Si no hay suficiente inventario indicamos que no se pudo abastecer la demanda\n",
    "        print(f\"Dia: {dia+1}, Inventario restante: {inventario}, Demanda: {demandas[dia]}, No se pudo abastecer la demanda\")\n",
    "\n",
    "    if (dia+1) % dias_para_ordenar == 0: # Cada 5 días revisamos el inventario restante\n",
    "        # Si el inventario restante es menor a 40\n",
    "        if inventario < 40:\n",
    "            print(f\"Dia: {dia+1}, Inventario reabastecido: {90 - inventario}\") # Se reestablce el inventario a 90, por lo que se compran 90 menos los que quedan\n",
    "            inventario = 90"
   ]
  },
  {
   "cell_type": "code",
   "execution_count": 7,
   "id": "9e3957de-40b5-4d26-97c8-8d0bc5917dc6",
   "metadata": {},
   "outputs": [
    {
     "data": {
      "image/png": "[encoded data removed]",
      "text/plain": [
       "<Figure size 640x480 with 1 Axes>"
      ]
     },
     "metadata": {},
     "output_type": "display_data"
    }
   ],
   "source": [
    "plt.hist(demandas, bins=10, density='True')\n",
    "plt.title(\"Distribución normal con media 6 y desviación estándar 2\")\n",
    "plt.xlabel(\"Valor\")\n",
    "plt.ylabel(\"Densidad\")\n",
    "plt.show();"
   ]
  },
  {
   "cell_type": "markdown",
   "id": "ca133120-968a-4c4a-9e32-253ddf64ce8e",
   "metadata": {},
   "source": [
    "## Conclusión\n",
    "\n",
    "Luego de realizar este problema, podemos concluir que los tiempos de reorden son bastante buenos, ya que son muy pocos los días en los que el se queda sin inventario, claro que hay cuestiones que no se toman en cuenta, como puede ser el tiempo que tarda el pedido en llegar o el inventario de reserva, pero con lo que se toma en cuenta, para ser un sistema bastante efectivo tanto para el cliente como para el negocio.\n",
    "\n",
    "De la gráfica podemos concluir, que la distribución normal con media 6 y desviación estándar 2 fue generada efectivamente mediante el método de Box-Muller cubierto en las sesiones de clase."
   ]
  },
  {
   "cell_type": "code",
   "execution_count": null,
   "id": "a14cce76-3be4-48ca-ad69-ea740403cd38",
   "metadata": {},
   "outputs": [],
   "source": []
  }
 ],
 "metadata": {
  "kernelspec": {
   "display_name": "Python 3 (ipykernel)",
   "language": "python",
   "name": "python3"
  },
  "language_info": {
   "codemirror_mode": {
    "name": "ipython",
    "version": 3
   },
   "file_extension": ".py",
   "mimetype": "text/x-python",
   "name": "python",
   "nbconvert_exporter": "python",
   "pygments_lexer": "ipython3",
   "version": "3.12.4"
  }
 },
 "nbformat": 4,
 "nbformat_minor": 5
}
