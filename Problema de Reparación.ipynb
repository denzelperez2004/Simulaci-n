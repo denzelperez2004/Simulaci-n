{
 "cells": [
  {
   "cell_type": "code",
   "execution_count": 1,
   "metadata": {},
   "outputs": [],
   "source": [
    "import numpy as np\n",
    "import random"
   ]
  },
  {
   "cell_type": "code",
   "execution_count": 7,
   "metadata": {},
   "outputs": [],
   "source": [
    "#Función de simulación\n",
    "def simular_fallas_y_reparaciones(num_equipos, lambda_falla, lambda_reparacion, tiempo_simulacion):\n",
    "    tiempos_falla = np.random.exponential(1/lambda_falla, size=num_equipos)  # Tiempo inicial de falla para cada equipo\n",
    "    tiempo_actual = 0\n",
    "    historial = []  # Arreglo para guardar los eventos, inicia vacío\n",
    "    \n",
    "    # Mientras el tiempo actual este dentro del tiempo a simular\n",
    "    while tiempo_actual < tiempo_simulacion:\n",
    "        # Encontramos el próximo equipo que falla \n",
    "        equipo_falla = np.argmin(tiempos_falla) # np.argmin retorna el indice del equipo con menor tiempo de falla\n",
    "        tiempo_falla = tiempos_falla[equipo_falla]\n",
    "        \n",
    "        # Si el tiempo de falla está dentro del tiempo de simulación\n",
    "        if tiempo_falla <= tiempo_simulacion:\n",
    "            # Cambiamos el tiempo actual al momento de la falla\n",
    "            tiempo_actual = tiempo_falla\n",
    "            # Agregamos el evento al historial\n",
    "            historial.append(f\"Tiempo {tiempo_actual:.2f}h: Falla en equipo {equipo_falla + 1}\")\n",
    "            \n",
    "            # Generamos el tiempo que se tarda la reparación\n",
    "            tiempo_reparacion = np.random.exponential(1/lambda_reparacion)\n",
    "            # Agregamos al tiempo actual el tiempo de reparación\n",
    "            tiempo_actual += tiempo_reparacion\n",
    "            # Añadimos el evento de reparación al historial de eventos\n",
    "            historial.append(f\"Tiempo {tiempo_actual:.2f}h: Reparación completada en equipo {equipo_falla + 1}\")\n",
    "            \n",
    "            # Calculamos la próxima falla del equipo (consideramos que el equipo no debe fallar mientras no es reparado)\n",
    "            tiempos_falla[equipo_falla] = tiempo_actual + np.random.exponential(1/lambda_falla)\n",
    "        else:\n",
    "            break  # Si el próximo tiempo de falla excede el tiempo de simulación, termina la simulación\n",
    "\n",
    "    # La función retorna todo el historial de eventos\n",
    "    return historial"
   ]
  },
  {
   "cell_type": "code",
   "execution_count": 8,
   "metadata": {},
   "outputs": [
    {
     "name": "stdout",
     "output_type": "stream",
     "text": [
      "Tiempo 4.05h: Falla en equipo 3\n",
      "Tiempo 13.31h: Reparación completada en equipo 3\n",
      "Tiempo 13.09h: Falla en equipo 1\n",
      "Tiempo 16.55h: Reparación completada en equipo 1\n",
      "Tiempo 39.88h: Falla en equipo 3\n",
      "Tiempo 46.79h: Reparación completada en equipo 3\n",
      "Tiempo 196.85h: Falla en equipo 1\n",
      "Tiempo 206.92h: Reparación completada en equipo 1\n",
      "Tiempo 233.88h: Falla en equipo 2\n",
      "Tiempo 239.37h: Reparación completada en equipo 2\n",
      "Tiempo 251.05h: Falla en equipo 2\n",
      "Tiempo 251.59h: Reparación completada en equipo 2\n",
      "Tiempo 256.25h: Falla en equipo 3\n",
      "Tiempo 257.98h: Reparación completada en equipo 3\n",
      "Tiempo 322.91h: Falla en equipo 1\n",
      "Tiempo 329.15h: Reparación completada en equipo 1\n",
      "Tiempo 355.14h: Falla en equipo 2\n",
      "Tiempo 369.22h: Reparación completada en equipo 2\n",
      "Tiempo 407.76h: Falla en equipo 2\n",
      "Tiempo 411.39h: Reparación completada en equipo 2\n",
      "Tiempo 419.71h: Falla en equipo 1\n",
      "Tiempo 430.12h: Reparación completada en equipo 1\n",
      "Tiempo 452.28h: Falla en equipo 2\n",
      "Tiempo 459.28h: Reparación completada en equipo 2\n",
      "Tiempo 481.46h: Falla en equipo 3\n",
      "Tiempo 486.52h: Reparación completada en equipo 3\n"
     ]
    }
   ],
   "source": [
    "# Parámetros \n",
    "num_equipos = 3             \n",
    "lambda_falla = 1/100        # Tasa de falla (Falla en promedio cada 100 horas)\n",
    "lambda_reparacion = 1/10    # Tasa de reparación (1 reparación tarda en promedio 10 horas)\n",
    "tiempo_simulacion = 500     # Tiempo a simular en horas\n",
    "\n",
    "historial_simulacion = simular_fallas_y_reparaciones(num_equipos, lambda_falla, lambda_reparacion, tiempo_simulacion)\n",
    "\n",
    "# Mostrar el historial de eventos\n",
    "for evento in historial_simulacion:\n",
    "    print(evento)\n"
   ]
  },
  {
   "cell_type": "code",
   "execution_count": null,
   "metadata": {},
   "outputs": [],
   "source": []
  }
 ],
 "metadata": {
  "kernelspec": {
   "display_name": "Python 3",
   "language": "python",
   "name": "python3"
  },
  "language_info": {
   "codemirror_mode": {
    "name": "ipython",
    "version": 3
   },
   "file_extension": ".py",
   "mimetype": "text/x-python",
   "name": "python",
   "nbconvert_exporter": "python",
   "pygments_lexer": "ipython3",
   "version": "3.11.5"
  }
 },
 "nbformat": 4,
 "nbformat_minor": 2
}
